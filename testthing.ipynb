{
 "cells": [
  {
   "cell_type": "markdown",
   "metadata": {},
   "source": [
    "# MILP"
   ]
  },
  {
   "cell_type": "code",
   "execution_count": 7,
   "metadata": {},
   "outputs": [],
   "source": [
    "import ortools\n",
    "from ortools.sat.python import cp_model\n",
    "from ortools.linear_solver import pywraplp\n",
    "\n",
    "milp_solver = pywraplp.Solver.CreateSolver('SCIP')\n",
    "\n",
    "# cp_model = cp_model.CpModel()\n",
    "cp_solver = cp_model.CpSolver()"
   ]
  },
  {
   "cell_type": "code",
   "execution_count": 8,
   "metadata": {},
   "outputs": [
    {
     "data": {
      "text/plain": [
       "inf"
      ]
     },
     "execution_count": 8,
     "metadata": {},
     "output_type": "execute_result"
    }
   ],
   "source": [
    "milp_solver.infinity()"
   ]
  },
  {
   "cell_type": "code",
   "execution_count": 59,
   "metadata": {},
   "outputs": [],
   "source": [
    "solver = pywraplp.Solver.CreateSolver(\"GLOP\")\n",
    "infinity = solver.infinity()\n",
    "\n",
    "x = solver.IntVar(0.0, 2., \"x\")\n",
    "y = solver.NumVar(0.0, infinity, \"y\")\n",
    "z = solver.BoolVar(\"z\")\n",
    "\n",
    "solver.Add(x + 7 * y <= 17.5)\n",
    "solver.Add(x + z<=2)\n",
    "solver.Maximize(2* x + 7 * y + z)\n",
    "\n",
    "objective = solver.Objective()\n",
    "# objective.SetCoefficient(x, 0)\n",
    "# objective.SetCoefficient(y, 7)\n",
    "# objective.SetMaximization()"
   ]
  },
  {
   "cell_type": "code",
   "execution_count": 63,
   "metadata": {},
   "outputs": [
    {
     "name": "stdout",
     "output_type": "stream",
     "text": [
      "17.5\n",
      "2\n",
      "19.5\n"
     ]
    }
   ],
   "source": [
    "print(2 + 15.5)\n",
    "print(2 + 0)\n",
    "print(2*2+15.5+0)"
   ]
  },
  {
   "cell_type": "code",
   "execution_count": 64,
   "metadata": {},
   "outputs": [
    {
     "name": "stdout",
     "output_type": "stream",
     "text": [
      "17.5\n",
      "2\n",
      "19.5\n"
     ]
    }
   ],
   "source": [
    "print(1+16.5)\n",
    "print(1+1)\n",
    "print(2*1+16.5+1)"
   ]
  },
  {
   "cell_type": "code",
   "execution_count": 60,
   "metadata": {},
   "outputs": [
    {
     "name": "stdout",
     "output_type": "stream",
     "text": [
      "19.5\n"
     ]
    }
   ],
   "source": [
    "solver.Solve()\n",
    "print(objective.Value())"
   ]
  },
  {
   "cell_type": "code",
   "execution_count": 61,
   "metadata": {},
   "outputs": [
    {
     "name": "stdout",
     "output_type": "stream",
     "text": [
      "1.0\n",
      "2.357142857142857\n",
      "1.0\n"
     ]
    }
   ],
   "source": [
    "print(x.solution_value())\n",
    "print(y.solution_value())\n",
    "print(z.solution_value())"
   ]
  },
  {
   "cell_type": "code",
   "execution_count": 72,
   "metadata": {},
   "outputs": [
    {
     "name": "stdout",
     "output_type": "stream",
     "text": [
      "0\n",
      "1\n",
      "2\n",
      "3\n",
      "4\n",
      "5\n",
      "6\n"
     ]
    }
   ],
   "source": [
    "print(solver.OPTIMAL)\n",
    "print(solver.FEASIBLE)\n",
    "print(solver.INFEASIBLE)\n",
    "print(solver.UNBOUNDED)\n",
    "print(solver.ABNORMAL)\n",
    "print(solver.MODEL_INVALID)\n",
    "print(solver.NOT_SOLVED)"
   ]
  },
  {
   "cell_type": "markdown",
   "metadata": {},
   "source": [
    "# CP"
   ]
  },
  {
   "cell_type": "code",
   "execution_count": 4,
   "metadata": {},
   "outputs": [],
   "source": [
    "import ortools\n",
    "from ortools.sat.python import cp_model\n",
    "from ortools.linear_solver import pywraplp\n",
    "model_cp = cp_model.CpModel()\n",
    "cp_solver = cp_model.CpSolver()\n",
    "\n",
    "INF = 100000"
   ]
  },
  {
   "cell_type": "code",
   "execution_count": 3,
   "metadata": {},
   "outputs": [
    {
     "ename": "NameError",
     "evalue": "name 'INF' is not defined",
     "output_type": "error",
     "traceback": [
      "\u001b[1;31m---------------------------------------------------------------------------\u001b[0m",
      "\u001b[1;31mNameError\u001b[0m                                 Traceback (most recent call last)",
      "Cell \u001b[1;32mIn[3], line 2\u001b[0m\n\u001b[0;32m      1\u001b[0m x \u001b[38;5;241m=\u001b[39m model_cp\u001b[38;5;241m.\u001b[39mNewIntVar(\u001b[38;5;241m0\u001b[39m, \u001b[38;5;241m10\u001b[39m, \u001b[38;5;124m'\u001b[39m\u001b[38;5;124mx\u001b[39m\u001b[38;5;124m'\u001b[39m)\n\u001b[1;32m----> 2\u001b[0m y \u001b[38;5;241m=\u001b[39m model_cp\u001b[38;5;241m.\u001b[39mNewIntVar(\u001b[38;5;241m0\u001b[39m, \u001b[43mINF\u001b[49m, \u001b[38;5;124m'\u001b[39m\u001b[38;5;124my\u001b[39m\u001b[38;5;124m'\u001b[39m)\n\u001b[0;32m      3\u001b[0m z \u001b[38;5;241m=\u001b[39m model_cp\u001b[38;5;241m.\u001b[39mNewIntVar(\u001b[38;5;241m0\u001b[39m, \u001b[38;5;241m10\u001b[39m, \u001b[38;5;124m'\u001b[39m\u001b[38;5;124mz\u001b[39m\u001b[38;5;124m'\u001b[39m)\n\u001b[0;32m      6\u001b[0m t \u001b[38;5;241m=\u001b[39m model_cp\u001b[38;5;241m.\u001b[39mNewBoolVar(\u001b[38;5;124m'\u001b[39m\u001b[38;5;124mt\u001b[39m\u001b[38;5;124m'\u001b[39m)\n",
      "\u001b[1;31mNameError\u001b[0m: name 'INF' is not defined"
     ]
    }
   ],
   "source": [
    "x = model_cp.NewIntVar(0, 10, 'x')\n",
    "y = model_cp.NewIntVar(0, cp_solver.in, 'y')\n",
    "z = model_cp.NewIntVar(0, 10, 'z')\n",
    "\n",
    "\n",
    "t = model_cp.NewBoolVar('t')\n",
    "\n",
    "# y==z <-> t==1\n",
    "\n",
    "model_cp.Add(x>0).OnlyEnforceIf(t)\n",
    "model_cp.Add(x<=0).OnlyEnforceIf(t.Not())\n",
    "\n",
    "model_cp.Add(y==z).OnlyEnforceIf(t)"
   ]
  },
  {
   "cell_type": "code",
   "execution_count": 192,
   "metadata": {},
   "outputs": [],
   "source": [
    "model_cp = cp_model.CpModel()\n",
    "cp_solver = cp_model.CpSolver()\n",
    "\n",
    "x = model_cp.NewIntVar(0, 10, 'x')\n",
    "y = model_cp.NewIntVar(-10, 10, 'y')\n",
    "z = model_cp.NewBoolVar('z')\n",
    "t = model_cp.NewBoolVar('t')\n",
    "\n",
    "model_cp.Add(x + 2 * y <= 14)\n",
    "model_cp.Add(3 * x - y >= 0)\n",
    "model_cp.Add(x + z <= 1)\n",
    "model_cp.Add(y + t <= 1)\n",
    "model_cp.AddAbsEquality(x, y)\n",
    "model_cp.AddAllDifferent(x, y)\n",
    "model_cp.AddAllowedAssignments([x, y], [[1, -1], [-1, 1], [2, -2]])\n",
    "model_cp.AddAtLeastOne([z, t])\n",
    "# model_cp.AddBoolAnd([z, t])\n",
    "model_cp.AddBoolOr([z, t])\n",
    "model_cp.AddExactlyOne([z, t])\n",
    "model_cp.AddImplication(z.Not(), t)\n",
    "\n",
    "\n",
    "\n",
    "\n",
    "\n",
    "model_cp.Maximize(x + 2 * y + z + t)"
   ]
  },
  {
   "cell_type": "code",
   "execution_count": 190,
   "metadata": {},
   "outputs": [
    {
     "data": {
      "text/plain": [
       "3"
      ]
     },
     "execution_count": 190,
     "metadata": {},
     "output_type": "execute_result"
    }
   ],
   "source": [
    "cp_solver.Solve(model_cp)"
   ]
  },
  {
   "cell_type": "code",
   "execution_count": 191,
   "metadata": {},
   "outputs": [
    {
     "ename": "IndexError",
     "evalue": "list index out of range",
     "output_type": "error",
     "traceback": [
      "\u001b[1;31m---------------------------------------------------------------------------\u001b[0m",
      "\u001b[1;31mIndexError\u001b[0m                                Traceback (most recent call last)",
      "Cell \u001b[1;32mIn[191], line 1\u001b[0m\n\u001b[1;32m----> 1\u001b[0m \u001b[38;5;28mprint\u001b[39m(\u001b[43mcp_solver\u001b[49m\u001b[38;5;241;43m.\u001b[39;49m\u001b[43mValue\u001b[49m\u001b[43m(\u001b[49m\u001b[43mx\u001b[49m\u001b[43m)\u001b[49m)\n\u001b[0;32m      2\u001b[0m \u001b[38;5;28mprint\u001b[39m(cp_solver\u001b[38;5;241m.\u001b[39mValue(y))\n\u001b[0;32m      3\u001b[0m \u001b[38;5;28mprint\u001b[39m(cp_solver\u001b[38;5;241m.\u001b[39mValue(z))\n",
      "File \u001b[1;32me:\\miniconda3\\envs\\ortools\\lib\\site-packages\\ortools\\sat\\python\\cp_model.py:2658\u001b[0m, in \u001b[0;36mCpSolver.Value\u001b[1;34m(self, expression)\u001b[0m\n\u001b[0;32m   2656\u001b[0m \u001b[38;5;28;01mdef\u001b[39;00m \u001b[38;5;21mValue\u001b[39m(\u001b[38;5;28mself\u001b[39m, expression: LinearExprT) \u001b[38;5;241m-\u001b[39m\u001b[38;5;241m>\u001b[39m \u001b[38;5;28mint\u001b[39m:\n\u001b[0;32m   2657\u001b[0m \u001b[38;5;250m    \u001b[39m\u001b[38;5;124;03m\"\"\"Returns the value of a linear expression after solve.\"\"\"\u001b[39;00m\n\u001b[1;32m-> 2658\u001b[0m     \u001b[38;5;28;01mreturn\u001b[39;00m \u001b[43mEvaluateLinearExpr\u001b[49m\u001b[43m(\u001b[49m\u001b[43mexpression\u001b[49m\u001b[43m,\u001b[49m\u001b[43m \u001b[49m\u001b[38;5;28;43mself\u001b[39;49m\u001b[38;5;241;43m.\u001b[39;49m\u001b[43m_Solution\u001b[49m\u001b[43m(\u001b[49m\u001b[43m)\u001b[49m\u001b[43m)\u001b[49m\n",
      "File \u001b[1;32me:\\miniconda3\\envs\\ortools\\lib\\site-packages\\ortools\\sat\\python\\cp_model.py:2520\u001b[0m, in \u001b[0;36mEvaluateLinearExpr\u001b[1;34m(expression, solution)\u001b[0m\n\u001b[0;32m   2518\u001b[0m     value \u001b[38;5;241m+\u001b[39m\u001b[38;5;241m=\u001b[39m expr\u001b[38;5;241m.\u001b[39mConstant() \u001b[38;5;241m*\u001b[39m coeff\n\u001b[0;32m   2519\u001b[0m \u001b[38;5;28;01melif\u001b[39;00m \u001b[38;5;28misinstance\u001b[39m(expr, IntVar):\n\u001b[1;32m-> 2520\u001b[0m     value \u001b[38;5;241m+\u001b[39m\u001b[38;5;241m=\u001b[39m coeff \u001b[38;5;241m*\u001b[39m \u001b[43msolution\u001b[49m\u001b[38;5;241;43m.\u001b[39;49m\u001b[43msolution\u001b[49m\u001b[43m[\u001b[49m\u001b[43mexpr\u001b[49m\u001b[38;5;241;43m.\u001b[39;49m\u001b[43mIndex\u001b[49m\u001b[43m(\u001b[49m\u001b[43m)\u001b[49m\u001b[43m]\u001b[49m\n\u001b[0;32m   2521\u001b[0m \u001b[38;5;28;01melif\u001b[39;00m \u001b[38;5;28misinstance\u001b[39m(expr, _NotBooleanVariable):\n\u001b[0;32m   2522\u001b[0m     value \u001b[38;5;241m+\u001b[39m\u001b[38;5;241m=\u001b[39m coeff \u001b[38;5;241m*\u001b[39m (\u001b[38;5;241m1\u001b[39m \u001b[38;5;241m-\u001b[39m solution\u001b[38;5;241m.\u001b[39msolution[expr\u001b[38;5;241m.\u001b[39mNot()\u001b[38;5;241m.\u001b[39mIndex()])\n",
      "\u001b[1;31mIndexError\u001b[0m: list index out of range"
     ]
    }
   ],
   "source": [
    "print(cp_solver.Value(x))\n",
    "print(cp_solver.Value(y))\n",
    "print(cp_solver.Value(z))\n",
    "print(cp_solver.Value(t))"
   ]
  },
  {
   "cell_type": "code",
   "execution_count": 102,
   "metadata": {},
   "outputs": [
    {
     "name": "stdout",
     "output_type": "stream",
     "text": [
      "0\n",
      "1\n",
      "2\n",
      "3\n",
      "4\n"
     ]
    }
   ],
   "source": [
    "print(cp_model.UNKNOWN)\n",
    "print(cp_model.MODEL_INVALID)\n",
    "print(cp_model.FEASIBLE)\n",
    "print(cp_model.INFEASIBLE)\n",
    "print(cp_model.OPTIMAL)"
   ]
  }
 ],
 "metadata": {
  "kernelspec": {
   "display_name": "ortools",
   "language": "python",
   "name": "python3"
  },
  "language_info": {
   "codemirror_mode": {
    "name": "ipython",
    "version": 3
   },
   "file_extension": ".py",
   "mimetype": "text/x-python",
   "name": "python",
   "nbconvert_exporter": "python",
   "pygments_lexer": "ipython3",
   "version": "3.10.13"
  }
 },
 "nbformat": 4,
 "nbformat_minor": 2
}
