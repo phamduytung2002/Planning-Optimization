{
  "cells": [
    {
      "cell_type": "code",
      "execution_count": 48,
      "metadata": {
        "colab": {
          "base_uri": "https://localhost:8080/"
        },
        "id": "6AEvbFQCbt6q",
        "outputId": "2a7bcaee-621b-4adc-85c1-bc0150216749"
      },
      "outputs": [
        {
          "name": "stdout",
          "output_type": "stream",
          "text": [
            "Requirement already satisfied: ortools in /usr/local/lib/python3.10/dist-packages (9.7.2996)\n",
            "Requirement already satisfied: absl-py>=0.13 in /usr/local/lib/python3.10/dist-packages (from ortools) (1.4.0)\n",
            "Requirement already satisfied: numpy>=1.13.3 in /usr/local/lib/python3.10/dist-packages (from ortools) (1.23.5)\n",
            "Requirement already satisfied: protobuf>=4.23.3 in /usr/local/lib/python3.10/dist-packages (from ortools) (4.24.4)\n"
          ]
        }
      ],
      "source": [
        "from ortools.sat.python import cp_model\n",
        "import pprint"
      ]
    },
    {
      "cell_type": "markdown",
      "metadata": {
        "id": "5DWp1bh1b0v3"
      },
      "source": [
        "# SEND + MORE = MONEY"
      ]
    },
    {
      "cell_type": "code",
      "execution_count": 49,
      "metadata": {
        "colab": {
          "base_uri": "https://localhost:8080/"
        },
        "id": "OT6kaoYkb5fM",
        "outputId": "396f5684-e935-4eff-bd42-ef09c88c3323"
      },
      "outputs": [
        {
          "data": {
            "text/plain": [
              "<ortools.sat.python.cp_model.Constraint at 0x7a021b80e680>"
            ]
          },
          "execution_count": 49,
          "metadata": {},
          "output_type": "execute_result"
        }
      ],
      "source": [
        "# Creates the model.\n",
        "model = cp_model.CpModel()\n",
        "\n",
        "# Creates the variables.\n",
        "num_vals = 8\n",
        "S = model.NewIntVar(0, 9, \"S\")\n",
        "E = model.NewIntVar(0, 9, \"E\")\n",
        "N = model.NewIntVar(0, 9, \"N\")\n",
        "D = model.NewIntVar(0, 9, \"D\")\n",
        "M = model.NewIntVar(0, 9, \"M\")\n",
        "O = model.NewIntVar(0, 9, \"O\")\n",
        "R = model.NewIntVar(0, 9, \"R\")\n",
        "Y = model.NewIntVar(0, 9, \"Y\")\n",
        "\n",
        "# distinct constraints\n",
        "model.AddAllDifferent(S, E, N, D, M, O, R, Y)\n",
        "model.Add(S!=0)\n",
        "model.Add(M!=0)\n",
        "model.Add(1000*S + 100*E + 10*N + D + 1000*M + 100*O + 10*R + E == 10000*M + 1000*O + 100*N + 10*E + Y)"
      ]
    },
    {
      "cell_type": "code",
      "execution_count": 50,
      "metadata": {
        "id": "xKwUVEUQhBPi"
      },
      "outputs": [],
      "source": [
        "class VarArraySolutionCollector(cp_model.CpSolverSolutionCallback):\n",
        "\n",
        "    def __init__(self, variables):\n",
        "        cp_model.CpSolverSolutionCallback.__init__(self)\n",
        "        self.__variables = variables\n",
        "        self.solution_list = []\n",
        "\n",
        "    def on_solution_callback(self):\n",
        "        self.solution_list.append([self.Value(v) for v in self.__variables])"
      ]
    },
    {
      "cell_type": "code",
      "execution_count": 51,
      "metadata": {
        "colab": {
          "base_uri": "https://localhost:8080/"
        },
        "id": "iHd3rUY5eD3P",
        "outputId": "8c6f574d-2b8b-407d-955a-cf64fdc5eeab"
      },
      "outputs": [
        {
          "name": "stdout",
          "output_type": "stream",
          "text": [
            "[[9, 5, 6, 7, 1, 0, 8, 2]]\n"
          ]
        }
      ],
      "source": [
        "solver = cp_model.CpSolver()\n",
        "\n",
        "solver.parameters.max_time_in_seconds = 100.0\n",
        "solution_collector = VarArraySolutionCollector([S, E, N, D, M, O, R, Y])\n",
        "solver.SearchForAllSolutions(model, solution_collector)\n",
        "print(solution_collector.solution_list)"
      ]
    },
    {
      "cell_type": "markdown",
      "metadata": {
        "id": "s3JRrr_hb27W"
      },
      "source": [
        "# CP + IS + FUN = TRUE\n"
      ]
    },
    {
      "cell_type": "code",
      "execution_count": 52,
      "metadata": {
        "colab": {
          "base_uri": "https://localhost:8080/"
        },
        "id": "kCpLyr9rht9F",
        "outputId": "f97da1b0-16a8-4fc6-b9db-a58ed66532b3"
      },
      "outputs": [
        {
          "data": {
            "text/plain": [
              "<ortools.sat.python.cp_model.Constraint at 0x7a021b836bf0>"
            ]
          },
          "execution_count": 52,
          "metadata": {},
          "output_type": "execute_result"
        }
      ],
      "source": [
        "# Creates the model.\n",
        "model2 = cp_model.CpModel()\n",
        "\n",
        "# Creates the variables.\n",
        "num_vals = 8\n",
        "C = model2.NewIntVar(0, 9, \"C\")\n",
        "P = model2.NewIntVar(0, 9, \"P\")\n",
        "I = model2.NewIntVar(0, 9, \"I\")\n",
        "S = model2.NewIntVar(0, 9, \"S\")\n",
        "F = model2.NewIntVar(0, 9, \"F\")\n",
        "U = model2.NewIntVar(0, 9, \"U\")\n",
        "N = model2.NewIntVar(0, 9, \"N\")\n",
        "T = model2.NewIntVar(0, 9, \"T\")\n",
        "R = model2.NewIntVar(0, 9, \"R\")\n",
        "E = model2.NewIntVar(0, 9, \"E\")\n",
        "\n",
        "# distinct constraints\n",
        "model2.AddAllDifferent(C, P, I, S, F, U, N, T, R, E)\n",
        "model2.Add(C!=0)\n",
        "model2.Add(I!=0)\n",
        "model2.Add(F!=0)\n",
        "model2.Add(T!=0)\n",
        "model2.Add(10*C+P + 10*I+S + 100*F+10*U+N == 1000*T+100*R+10*U+E)"
      ]
    },
    {
      "cell_type": "code",
      "execution_count": 53,
      "metadata": {
        "colab": {
          "base_uri": "https://localhost:8080/"
        },
        "id": "8I6JYerpiFwh",
        "outputId": "56858711-90e2-4cb1-e4cb-2bb3628199d3"
      },
      "outputs": [
        {
          "name": "stdout",
          "output_type": "stream",
          "text": [
            "[[6, 4, 3, 5, 9, 2, 8, 1, 0, 7],\n",
            " [3, 4, 6, 5, 9, 2, 8, 1, 0, 7],\n",
            " [3, 4, 6, 8, 9, 2, 5, 1, 0, 7],\n",
            " [3, 2, 6, 7, 9, 8, 5, 1, 0, 4],\n",
            " [3, 2, 6, 5, 9, 8, 7, 1, 0, 4],\n",
            " [2, 3, 7, 6, 9, 8, 5, 1, 0, 4],\n",
            " [2, 3, 7, 4, 9, 6, 8, 1, 0, 5],\n",
            " [2, 3, 7, 5, 9, 4, 8, 1, 0, 6],\n",
            " [2, 3, 7, 8, 9, 4, 5, 1, 0, 6],\n",
            " [2, 3, 7, 8, 9, 6, 4, 1, 0, 5],\n",
            " [2, 3, 7, 5, 9, 8, 6, 1, 0, 4],\n",
            " [7, 3, 2, 5, 9, 8, 6, 1, 0, 4],\n",
            " [7, 3, 2, 6, 9, 8, 5, 1, 0, 4],\n",
            " [6, 2, 3, 7, 9, 8, 5, 1, 0, 4],\n",
            " [6, 2, 3, 5, 9, 8, 7, 1, 0, 4],\n",
            " [7, 3, 2, 4, 9, 6, 8, 1, 0, 5],\n",
            " [7, 3, 2, 8, 9, 6, 4, 1, 0, 5],\n",
            " [7, 4, 2, 8, 9, 6, 3, 1, 0, 5],\n",
            " [7, 8, 2, 4, 9, 6, 3, 1, 0, 5],\n",
            " [7, 8, 2, 3, 9, 6, 4, 1, 0, 5],\n",
            " [7, 4, 2, 3, 9, 6, 8, 1, 0, 5],\n",
            " [7, 6, 2, 3, 9, 8, 5, 1, 0, 4],\n",
            " [7, 5, 2, 3, 9, 8, 6, 1, 0, 4],\n",
            " [7, 8, 2, 3, 9, 4, 5, 1, 0, 6],\n",
            " [7, 8, 2, 5, 9, 4, 3, 1, 0, 6],\n",
            " [7, 3, 2, 5, 9, 4, 8, 1, 0, 6],\n",
            " [7, 5, 2, 3, 9, 4, 8, 1, 0, 6],\n",
            " [7, 3, 2, 8, 9, 4, 5, 1, 0, 6],\n",
            " [7, 5, 2, 8, 9, 4, 3, 1, 0, 6],\n",
            " [2, 5, 7, 8, 9, 4, 3, 1, 0, 6],\n",
            " [4, 6, 5, 8, 9, 2, 3, 1, 0, 7],\n",
            " [5, 6, 4, 8, 9, 2, 3, 1, 0, 7],\n",
            " [6, 5, 3, 8, 9, 2, 4, 1, 0, 7],\n",
            " [6, 5, 3, 4, 9, 2, 8, 1, 0, 7],\n",
            " [6, 4, 3, 8, 9, 2, 5, 1, 0, 7],\n",
            " [5, 6, 4, 3, 9, 2, 8, 1, 0, 7],\n",
            " [4, 6, 5, 3, 9, 2, 8, 1, 0, 7],\n",
            " [4, 3, 5, 6, 9, 2, 8, 1, 0, 7],\n",
            " [4, 3, 5, 8, 9, 2, 6, 1, 0, 7],\n",
            " [5, 3, 4, 8, 9, 2, 6, 1, 0, 7],\n",
            " [5, 3, 4, 6, 9, 2, 8, 1, 0, 7],\n",
            " [3, 5, 6, 4, 9, 2, 8, 1, 0, 7],\n",
            " [3, 5, 6, 8, 9, 2, 4, 1, 0, 7],\n",
            " [3, 8, 6, 5, 9, 2, 4, 1, 0, 7],\n",
            " [3, 8, 6, 4, 9, 2, 5, 1, 0, 7],\n",
            " [4, 8, 5, 3, 9, 2, 6, 1, 0, 7],\n",
            " [5, 8, 4, 3, 9, 2, 6, 1, 0, 7],\n",
            " [6, 8, 3, 4, 9, 2, 5, 1, 0, 7],\n",
            " [6, 8, 3, 5, 9, 2, 4, 1, 0, 7],\n",
            " [5, 8, 4, 6, 9, 2, 3, 1, 0, 7],\n",
            " [4, 8, 5, 6, 9, 2, 3, 1, 0, 7],\n",
            " [3, 7, 6, 2, 9, 8, 5, 1, 0, 4],\n",
            " [3, 5, 6, 2, 9, 8, 7, 1, 0, 4],\n",
            " [3, 7, 6, 5, 9, 8, 2, 1, 0, 4],\n",
            " [3, 5, 6, 7, 9, 8, 2, 1, 0, 4],\n",
            " [2, 5, 7, 6, 9, 8, 3, 1, 0, 4],\n",
            " [2, 6, 7, 5, 9, 8, 3, 1, 0, 4],\n",
            " [2, 6, 7, 3, 9, 8, 5, 1, 0, 4],\n",
            " [2, 5, 7, 3, 9, 8, 6, 1, 0, 4],\n",
            " [2, 8, 7, 3, 9, 4, 5, 1, 0, 6],\n",
            " [2, 5, 7, 3, 9, 4, 8, 1, 0, 6],\n",
            " [2, 8, 7, 3, 9, 6, 4, 1, 0, 5],\n",
            " [2, 4, 7, 3, 9, 6, 8, 1, 0, 5],\n",
            " [2, 4, 7, 8, 9, 6, 3, 1, 0, 5],\n",
            " [2, 8, 7, 4, 9, 6, 3, 1, 0, 5],\n",
            " [2, 8, 7, 5, 9, 4, 3, 1, 0, 6],\n",
            " [7, 6, 2, 5, 9, 8, 3, 1, 0, 4],\n",
            " [7, 5, 2, 6, 9, 8, 3, 1, 0, 4],\n",
            " [6, 5, 3, 7, 9, 8, 2, 1, 0, 4],\n",
            " [6, 7, 3, 5, 9, 8, 2, 1, 0, 4],\n",
            " [6, 7, 3, 2, 9, 8, 5, 1, 0, 4],\n",
            " [6, 5, 3, 2, 9, 8, 7, 1, 0, 4]]\n"
          ]
        }
      ],
      "source": [
        "solver = cp_model.CpSolver()\n",
        "\n",
        "# Sets a time limit of 10 seconds.\n",
        "solver.parameters.max_time_in_seconds = 100.0\n",
        "solution_collector = VarArraySolutionCollector([C, P, I, S, F, U, N, T, R, E])\n",
        "solver.SearchForAllSolutions(model2, solution_collector)\n",
        "pprint.pprint(solution_collector.solution_list)"
      ]
    }
  ],
  "metadata": {
    "colab": {
      "provenance": []
    },
    "kernelspec": {
      "display_name": "Python 3",
      "name": "python3"
    },
    "language_info": {
      "name": "python",
      "version": "3.12.0"
    }
  },
  "nbformat": 4,
  "nbformat_minor": 0
}
